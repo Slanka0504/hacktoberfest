{
 "cells": [
  {
   "cell_type": "code",
   "execution_count": 2,
   "id": "3d60d85f",
   "metadata": {},
   "outputs": [
    {
     "name": "stdout",
     "output_type": "stream",
     "text": [
      "Hello World Hey Guys\n"
     ]
    }
   ],
   "source": [
    "# Language: Python\n",
    "#ENV: Conda\n",
    "#Name: Sanjana Lanka\n",
    "#Gittthub: https://github.com/Slanka0504\n",
    "\n",
    "print(\"Hello World\"+' Hey Guys')\n"
   ]
  },
  {
   "cell_type": "code",
   "execution_count": null,
   "id": "b31db6c5",
   "metadata": {},
   "outputs": [],
   "source": []
  }
 ],
 "metadata": {
  "kernelspec": {
   "display_name": "Python 3 (ipykernel)",
   "language": "python",
   "name": "python3"
  },
  "language_info": {
   "codemirror_mode": {
    "name": "ipython",
    "version": 3
   },
   "file_extension": ".py",
   "mimetype": "text/x-python",
   "name": "python",
   "nbconvert_exporter": "python",
   "pygments_lexer": "ipython3",
   "version": "3.11.4"
  }
 },
 "nbformat": 4,
 "nbformat_minor": 5
}
